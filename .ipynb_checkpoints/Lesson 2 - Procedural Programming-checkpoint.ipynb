{
 "cells": [
  {
   "cell_type": "markdown",
   "metadata": {},
   "source": [
    "### Procedural Programming also known as routines, subroutines, functions are carried out as a series of computational steps\n",
    "\n",
    "##### In Scope\n",
    "1. Feature Creation\n",
    "2. Feature Transformation\n",
    "3. Model Training\n",
    "4. Scoring Steps"
   ]
  },
  {
   "cell_type": "markdown",
   "metadata": {},
   "source": [
    "## Procedural Programming : the functions"
   ]
  },
  {
   "cell_type": "markdown",
   "metadata": {},
   "source": [
    "### We can define functions as \n",
    "\n",
    "==================================================Examaple Script==================================================\n",
    "##### def load_data(df_path):\n",
    "    return pd.read_csv(df_path)\n",
    "\n",
    "\n",
    "##### def divide_train_test(df, target):\n",
    "    X_train, X_test, y_train, y_test = train_test_split(df, df[target],test_size=0.2,random_state=0)\n",
    "    return X_train, X_test, y_train, y_test\n",
    "\n",
    "\n",
    "##### def remove_numerical_na(df, var, mean_val):\n",
    "    return df[var].fillna(mean_val)\n",
    "\n",
    "\n",
    "##### def remove_categorical_na(df, var):\n",
    "    return df[var].fillna('Missing')\n",
    "\n",
    "\n",
    "##### def cap_outliers(df, var, cap, bigger_than=False):\n",
    "    if bigger_than:\n",
    "        capped_var = np.where(df[var]>cap, cap, df[var])\n",
    "    else:\n",
    "        capped_var = np.where(df[var]<cap, cap, df[var])\n",
    "    return capped_var\n",
    "\n",
    "\n",
    "#####  def transform_skewed_variables(df, var):\n",
    "    return np.log(df[var])\n",
    "\n",
    "#####  def remove_rare_labels(df, var, frequent_labels):\n",
    "    return np.where(df[var].isin(frequent_labels, df[var], 'Rare'))\n",
    "\n",
    "\n",
    "#####  def train_scaler(df, output_path):\n",
    "    scaler = StandardScaler()\n",
    "    scaler.fit(df)\n",
    "    joblib.save(scaler, output_path)\n",
    "    return scaler\n",
    "    \n",
    "#####  def scale_features(df, scaler):\n",
    "    scaler = load(scaler) # with joblib probably\n",
    "    return scaler.transform(df)\n",
    "\n",
    "\n",
    "#####  def train_model(df, target, features, scaler, output_path):\n",
    "    lin_model = Lasso(random_state=2909)\n",
    "    lin_model.fit(scaler.transform(df[features]), target)\n",
    "    joblib.save(lin_model, output_path)\n",
    "    return lin_model\n",
    "\n",
    "#####  def predict(df, model, features, scaler):\n",
    "    return model.predict_proba(scaler.transform(df[features]))\n",
    "====================================================================================================================\n",
    "    \n",
    "##### and so on......"
   ]
  },
  {
   "cell_type": "markdown",
   "metadata": {},
   "source": [
    "##### We also need 2 additional scripts \n",
    "1. train script\n",
    "2. score script"
   ]
  },
  {
   "cell_type": "markdown",
   "metadata": {},
   "source": [
    "## Procedural Programming : train script"
   ]
  },
  {
   "cell_type": "markdown",
   "metadata": {},
   "source": [
    "=============================================== training pipeline =====================================================\n",
    "\n",
    "df = load(yaml_path_to_file)\n",
    "train, test, y_train, y_test = divide_train_test(df, yaml_target_name)\n",
    "\n",
    "train[var1] = remove_numerical_na(train, var1, mean_val1_in_yaml)\n",
    "train[var2] = remove_numerical_na(train, var2, mean_val2_in_yaml)\n",
    "\n",
    "train[var3] = remove_categorical_na(train[var3])\n",
    "train[var4] = remove_categorical_na(train[var4])\n",
    "\n",
    "train[var5] = cap_outliers(train, var5, cap_value_in_yaml, bigger_than=False)\n",
    "train[var6] = cap_outliers(train, var6, cap_value_in_yaml, bigger_than=False)\n",
    "\n",
    "train[var7] = transform_skewed_variables(train, var7)\n",
    "\n",
    "train[var8] = remove_rare_labels(train, var8, frequent_labels_in_yaml)\n",
    "\n",
    "scaler = train_scaler(train, output_path_in_yaml)\n",
    "\n",
    "lin_model = train_model(train, y_train, feature_list_in_yaml, scaler, output_path_in_yaml)\n",
    "\n",
    "==================================================================================================================="
   ]
  },
  {
   "cell_type": "markdown",
   "metadata": {},
   "source": [
    "## Procedural Programming : score script"
   ]
  },
  {
   "cell_type": "markdown",
   "metadata": {},
   "source": [
    "=============================================== scoring pipeline =====================================================\n",
    "\n",
    "data = 'load it from somewhere'\n",
    "\n",
    "data[var1] = remove_numerical_na(data, var1, mean_val1_in_yaml)\n",
    "data[var2] = remove_numerical_na(data, var2, mean_val2_in_yaml)\n",
    "\n",
    "data[var3] = remove_categorical_na(data[var3])\n",
    "data[var4] = remove_categorical_na(data[var4])\n",
    "\n",
    "data[var5] = cap_outliers(data, var5, cap_value_in_yaml, bigger_than=False)\n",
    "data[var6] = cap_outliers(data, var6, cap_value_in_yaml, bigger_than=False)\n",
    "\n",
    "data[var7] = transform_skewed_variables(data, var7)\n",
    "\n",
    "data[var8] = remove_rare_labels(data, var8, frequent_labels_in_yaml)\n",
    "\n",
    "scaler = joblib.load((output_path_in_yaml_to_scaler)\n",
    "lin_model = joblib.load(output_path_in_yaml_to_model)\n",
    "\n",
    "score = predict(data, lin_model, feature_list_in_yaml, scaler)\n",
    "\n",
    "==================================================================================================================="
   ]
  },
  {
   "cell_type": "code",
   "execution_count": null,
   "metadata": {},
   "outputs": [],
   "source": []
  }
 ],
 "metadata": {
  "kernelspec": {
   "display_name": "Python 3",
   "language": "python",
   "name": "python3"
  },
  "language_info": {
   "codemirror_mode": {
    "name": "ipython",
    "version": 3
   },
   "file_extension": ".py",
   "mimetype": "text/x-python",
   "name": "python",
   "nbconvert_exporter": "python",
   "pygments_lexer": "ipython3",
   "version": "3.6.9"
  }
 },
 "nbformat": 4,
 "nbformat_minor": 2
}
