{
 "cells": [
  {
   "cell_type": "markdown",
   "metadata": {},
   "source": [
    "## Introduction"
   ]
  },
  {
   "cell_type": "markdown",
   "metadata": {},
   "source": [
    "##### ML Model Building Steps\n",
    "\n",
    "1. Data Gathering (Sources)\n",
    "2. Data Analysis\n",
    "3. Data Pre-Processing (Feature Engineering) \n",
    "4. Varaible Selection\n",
    "5. Model Building\n",
    "6. Model building Business uplift evaluation"
   ]
  },
  {
   "cell_type": "markdown",
   "metadata": {},
   "source": [
    "## Pipeline Concepts "
   ]
  },
  {
   "cell_type": "markdown",
   "metadata": {},
   "source": [
    "ML Pipeline - to deploy steps for model prediction\n",
    "\n",
    "1.Feature Engineering - \n",
    "    \n",
    "    a. Missing Data - empty or null\n",
    "    b. Labels (Categorical) - cardinality(no of categories), rare labels(tree based overfit frequent categories, \n",
    "                                            operational level issue, train-specific and test-specific values,string labels)\n",
    "    c. Dsitribution - (Linear model assumption, other models no assumption but better spread of values may benifit)\n",
    "    d. Outliers - (sensitive to outliers, linear model and adaboost)\n",
    "    e. Feature Magnitude(Scale) - {sensitive : [linear,neural network,SVM,KNN,K-Means,LDA,PCA], non-sensitive : [CART,RF,Gradient Boosted Trees]}\n",
    "\n",
    "2.Feature Selection - algo or procedures that allow us to find best subset of features\n",
    "    \n",
    "    a. Simple Model are better interpretable\n",
    "    b. Shorter Training Time \n",
    "    c. Enhanced Generalisation by redusing overfitting\n",
    "    d. Easier to implement by software developers\n",
    "    e. Reduced risk of data error during model use\n",
    "    f. Reduce Data redundancy\n",
    "       \n",
    "    ########################################################################################   \n",
    "       \n",
    "       Application side usefulness - \n",
    "\n",
    "           Smaller JSON messages sent over to model - contains only necessary variables\n",
    "           Less line of Code for error handling(Error handlers need to be written for each variable/input)\n",
    "           Less information to log\n",
    "           Less Feature engineering code\n",
    "       \n",
    "       Varibale Redundancy because of -\n",
    "           Constant Variables\n",
    "           Quasi-constant(> 90% of observation)\n",
    "           Dusplication (Same variable multiple time)\n",
    "           Correlation\n",
    "           \n",
    "     ########################################################################################     \n",
    "           \n",
    "      Methods for Feature Selection (# umbrella terms)- \n",
    "          a. Embedded Methods - Feature selection during training of ML algo\n",
    "              + Good model performance | -  Not Model agnostic\n",
    "              + Capture feature interaction\n",
    "              + Better than filter\n",
    "              + Faster than wrapper\n",
    "              \n",
    "              \n",
    "          b. Wrapper Methods - (Consider ML Algo, Evaluate subsets of features)\n",
    "              + Consider Feature Interaction | - Not model agnostic\n",
    "              + Best Performance | - Computaion Expensive\n",
    "              + Best feature subset for given algo | - Often impractical\n",
    "              \n",
    "          c. Filter Methods - Independent og ML Algo,Based on Variable Charachteristics (ANOVA,ChiSquare)\n",
    "              + Quick Feature Removal | - Does not capture redundancy\n",
    "              + Model Agnostic | - Doesnot capture feature interaction\n",
    "              + Faast Computation | - Poor model performance\n",
    "              \n",
    "       Best approach - Select features before building pipeline\n",
    "       \n",
    "3.Model Building - Linear,Rf,GBT,NN | Clustering,Recommender Systems\n",
    "    \n",
    "    Get Prediction\n",
    "    Evaluation - ROC_AUC,Accuracy,RMSE\n",
    "    \n",
    "    ########################################################################################\n",
    "    \n",
    "    Model Stacking(Meta Ensembling) - Multiple ML Algo\n",
    "        -Logit,RF,GBT,NN,MARS -> Meta Model -> Prediction\n",
    "    \n",
    "              \n"
   ]
  },
  {
   "cell_type": "code",
   "execution_count": null,
   "metadata": {},
   "outputs": [],
   "source": []
  }
 ],
 "metadata": {
  "kernelspec": {
   "display_name": "Python 2",
   "language": "python",
   "name": "python2"
  },
  "language_info": {
   "codemirror_mode": {
    "name": "ipython",
    "version": 2
   },
   "file_extension": ".py",
   "mimetype": "text/x-python",
   "name": "python",
   "nbconvert_exporter": "python",
   "pygments_lexer": "ipython2",
   "version": "2.7.16"
  }
 },
 "nbformat": 4,
 "nbformat_minor": 4
}
